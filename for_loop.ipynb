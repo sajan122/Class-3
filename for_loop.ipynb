{
  "cells": [
    {
      "cell_type": "markdown",
      "metadata": {
        "id": "view-in-github",
        "colab_type": "text"
      },
      "source": [
        "<a href=\"https://colab.research.google.com/github/sajan122/Class-3/blob/main/for_loop.ipynb\" target=\"_parent\"><img src=\"https://colab.research.google.com/assets/colab-badge.svg\" alt=\"Open In Colab\"/></a>"
      ]
    },
    {
      "cell_type": "code",
      "execution_count": null,
      "metadata": {
        "id": "2qLxfRtGXjnw"
      },
      "outputs": [],
      "source": [
        "l = [1,2,3,4,5]"
      ]
    },
    {
      "cell_type": "code",
      "execution_count": null,
      "metadata": {
        "colab": {
          "base_uri": "https://localhost:8080/"
        },
        "id": "N1UX6JIMYmj1",
        "outputId": "507d0f34-39ed-4f4b-c79f-dd3ff5d8f363"
      },
      "outputs": [
        {
          "name": "stdout",
          "output_type": "stream",
          "text": [
            "1 <class 'int'>\n",
            "2 <class 'int'>\n",
            "3 <class 'int'>\n",
            "4 <class 'int'>\n",
            "5 <class 'int'>\n"
          ]
        }
      ],
      "source": [
        "for i in l :\n",
        "    print(i,type(i))"
      ]
    },
    {
      "cell_type": "code",
      "execution_count": null,
      "metadata": {
        "id": "u2Qp4FiaZaZu"
      },
      "outputs": [],
      "source": [
        "l1 = [\"sajan\",\"kumar\",\"verma\",'yadav']"
      ]
    },
    {
      "cell_type": "code",
      "execution_count": null,
      "metadata": {
        "colab": {
          "base_uri": "https://localhost:8080/"
        },
        "id": "Wn0JE0mAZbAk",
        "outputId": "6bab073a-0dbf-4b8f-dd00-a2bb7887b3da"
      },
      "outputs": [
        {
          "name": "stdout",
          "output_type": "stream",
          "text": [
            "sajan\n",
            "kumar\n",
            "verma\n",
            "yadav\n",
            "if for loop is able to complete itself then only else will execute\n"
          ]
        }
      ],
      "source": [
        "for i in l1 :\n",
        "    print(i)\n",
        "else:\n",
        "    print(\"if for loop is able to complete itself then only else will execute\")"
      ]
    },
    {
      "cell_type": "code",
      "execution_count": null,
      "metadata": {
        "colab": {
          "base_uri": "https://localhost:8080/"
        },
        "id": "ndRynD0CZcL4",
        "outputId": "f5006610-d7f1-45a3-a37d-9ba467a01379"
      },
      "outputs": [
        {
          "output_type": "execute_result",
          "data": {
            "text/plain": [
              "['sajan', 'kumar', 'verma', 'yadav']"
            ]
          },
          "metadata": {},
          "execution_count": 4
        }
      ],
      "source": [
        "l1"
      ]
    },
    {
      "cell_type": "code",
      "execution_count": null,
      "metadata": {
        "colab": {
          "base_uri": "https://localhost:8080/"
        },
        "id": "ZNqjAdLLZcqf",
        "outputId": "ed7e8833-ce93-4564-8d52-7557af185452"
      },
      "outputs": [
        {
          "output_type": "stream",
          "name": "stdout",
          "text": [
            "sajan\n"
          ]
        }
      ],
      "source": [
        "for i in l1 :\n",
        "    if i == 'kumar':\n",
        "        break\n",
        "    print(i)\n",
        "else:\n",
        "    print(\"execute this if for loop is able to complete itself\")"
      ]
    },
    {
      "cell_type": "code",
      "execution_count": null,
      "metadata": {
        "id": "9SLx7KsGZdHC",
        "colab": {
          "base_uri": "https://localhost:8080/"
        },
        "outputId": "7050e579-c201-44d7-8b71-8f225694f18d"
      },
      "outputs": [
        {
          "output_type": "stream",
          "name": "stdout",
          "text": [
            "sajan\n",
            "verma\n",
            "yadav\n",
            "if for loop is able to complete itself then only else will execute\n"
          ]
        }
      ],
      "source": [
        "for i in l1 :\n",
        "    if i == 'kumar':\n",
        "        continue\n",
        "    print(i)\n",
        "else:\n",
        "    print(\"if for loop is able to complete itself then only else will execute\")"
      ]
    },
    {
      "cell_type": "code",
      "execution_count": null,
      "metadata": {
        "id": "bDOOdt1VZeJE",
        "colab": {
          "base_uri": "https://localhost:8080/"
        },
        "outputId": "cf04d96c-9621-47cf-b8a0-788f9ba83af7"
      },
      "outputs": [
        {
          "output_type": "execute_result",
          "data": {
            "text/plain": [
              "['sajan', 'kumar', 'verma', 'yadav']"
            ]
          },
          "metadata": {},
          "execution_count": 21
        }
      ],
      "source": [
        "l1"
      ]
    },
    {
      "cell_type": "code",
      "execution_count": null,
      "metadata": {
        "id": "gFpl931-ZejF",
        "colab": {
          "base_uri": "https://localhost:8080/"
        },
        "outputId": "0bb1572b-74ef-4551-a3b5-1c7a081e06b7"
      },
      "outputs": [
        {
          "output_type": "execute_result",
          "data": {
            "text/plain": [
              "range(0, 5)"
            ]
          },
          "metadata": {},
          "execution_count": 22
        }
      ],
      "source": [
        "range(5)"
      ]
    },
    {
      "cell_type": "code",
      "execution_count": null,
      "metadata": {
        "id": "YPfsC_3LZe8J",
        "colab": {
          "base_uri": "https://localhost:8080/"
        },
        "outputId": "a2ff3599-a971-4959-a928-326326c0b654"
      },
      "outputs": [
        {
          "output_type": "execute_result",
          "data": {
            "text/plain": [
              "[0, 1, 2, 3, 4]"
            ]
          },
          "metadata": {},
          "execution_count": 23
        }
      ],
      "source": [
        "list(range(5))"
      ]
    },
    {
      "cell_type": "code",
      "execution_count": null,
      "metadata": {
        "id": "5ImyfvvaZfTO",
        "colab": {
          "base_uri": "https://localhost:8080/"
        },
        "outputId": "85a32f9a-0c61-45ec-d5fb-f44983201997"
      },
      "outputs": [
        {
          "output_type": "execute_result",
          "data": {
            "text/plain": [
              "[0, 2, 4]"
            ]
          },
          "metadata": {},
          "execution_count": 25
        }
      ],
      "source": [
        "list(range(0,5,2))"
      ]
    },
    {
      "cell_type": "code",
      "execution_count": null,
      "metadata": {
        "id": "1fsdZ8-IZf2r",
        "colab": {
          "base_uri": "https://localhost:8080/"
        },
        "outputId": "e053ab4a-e8f2-4a3a-c546-782e98da7f92"
      },
      "outputs": [
        {
          "output_type": "execute_result",
          "data": {
            "text/plain": [
              "[0, 2, 4, 6, 8, 10, 12, 14, 16, 18, 20, 22, 24, 26, 28]"
            ]
          },
          "metadata": {},
          "execution_count": 27
        }
      ],
      "source": [
        "list(range(0,29,2))"
      ]
    },
    {
      "cell_type": "code",
      "execution_count": null,
      "metadata": {
        "id": "EQwerFpsZgeo",
        "colab": {
          "base_uri": "https://localhost:8080/"
        },
        "outputId": "7e3d10d5-46bc-43f3-8a8a-f74da27f6de2"
      },
      "outputs": [
        {
          "output_type": "execute_result",
          "data": {
            "text/plain": [
              "['sajan', 'kumar', 'verma', 'yadav']"
            ]
          },
          "metadata": {},
          "execution_count": 28
        }
      ],
      "source": [
        "l1"
      ]
    },
    {
      "cell_type": "code",
      "source": [
        "len(l1)"
      ],
      "metadata": {
        "id": "GJvXEZz7X10X",
        "colab": {
          "base_uri": "https://localhost:8080/"
        },
        "outputId": "de0539a9-c6b5-4f2a-a864-5c8e2d3ad748"
      },
      "execution_count": null,
      "outputs": [
        {
          "output_type": "execute_result",
          "data": {
            "text/plain": [
              "4"
            ]
          },
          "metadata": {},
          "execution_count": 31
        }
      ]
    },
    {
      "cell_type": "code",
      "source": [
        "list(range(len(l1)))"
      ],
      "metadata": {
        "colab": {
          "base_uri": "https://localhost:8080/"
        },
        "id": "uDAUebV_gD8P",
        "outputId": "dc88fefd-5b3b-4957-d70d-956d625f25e8"
      },
      "execution_count": null,
      "outputs": [
        {
          "output_type": "execute_result",
          "data": {
            "text/plain": [
              "[0, 1, 2, 3]"
            ]
          },
          "metadata": {},
          "execution_count": 59
        }
      ]
    },
    {
      "cell_type": "code",
      "source": [
        "for i in range(len(l1)):\n",
        "    print(l1[i])"
      ],
      "metadata": {
        "colab": {
          "base_uri": "https://localhost:8080/"
        },
        "id": "jQ_eyq4ggVl6",
        "outputId": "80dd112a-98c2-4be7-8ffa-b97bcfbbd680"
      },
      "execution_count": null,
      "outputs": [
        {
          "output_type": "stream",
          "name": "stdout",
          "text": [
            "sajan\n",
            "kumar\n",
            "verma\n",
            "yadav\n"
          ]
        }
      ]
    },
    {
      "cell_type": "code",
      "source": [
        "for i in [0, 1, 2, 3]:\n",
        "    print(l1[i])"
      ],
      "metadata": {
        "id": "YfH_JXvFgPLU",
        "colab": {
          "base_uri": "https://localhost:8080/"
        },
        "outputId": "178a982d-2d8b-4800-a3fb-c997393bbc8a"
      },
      "execution_count": null,
      "outputs": [
        {
          "output_type": "stream",
          "name": "stdout",
          "text": [
            "sajan\n",
            "kumar\n",
            "verma\n",
            "yadav\n"
          ]
        }
      ]
    },
    {
      "cell_type": "code",
      "source": [
        "list(range(len(l1)-1,-1,-1))"
      ],
      "metadata": {
        "colab": {
          "base_uri": "https://localhost:8080/"
        },
        "id": "z_m6-E_0jro0",
        "outputId": "361584ba-146a-4df7-827f-8958df1eaf48"
      },
      "execution_count": null,
      "outputs": [
        {
          "output_type": "execute_result",
          "data": {
            "text/plain": [
              "[3, 2, 1, 0]"
            ]
          },
          "metadata": {},
          "execution_count": 60
        }
      ]
    },
    {
      "cell_type": "code",
      "source": [
        "list(range(len(l1)-1,-2,-1))"
      ],
      "metadata": {
        "colab": {
          "base_uri": "https://localhost:8080/"
        },
        "id": "RYdaH1ZSkTh9",
        "outputId": "fa9f3595-755f-4b89-b3be-20b70d73f120"
      },
      "execution_count": null,
      "outputs": [
        {
          "output_type": "execute_result",
          "data": {
            "text/plain": [
              "[3, 2, 1, 0, -1]"
            ]
          },
          "metadata": {},
          "execution_count": 62
        }
      ]
    },
    {
      "cell_type": "code",
      "source": [
        "for i in range(len(l1)-1,-1,-1):\n",
        "    print(l1[i])"
      ],
      "metadata": {
        "colab": {
          "base_uri": "https://localhost:8080/"
        },
        "id": "qiYnNyICkeLU",
        "outputId": "c525d475-feed-4fa0-bc1b-bd808fb26d1f"
      },
      "execution_count": null,
      "outputs": [
        {
          "output_type": "stream",
          "name": "stdout",
          "text": [
            "yadav\n",
            "verma\n",
            "kumar\n",
            "sajan\n"
          ]
        }
      ]
    },
    {
      "cell_type": "code",
      "source": [
        "l2 = [1,33,55,65,775,75,33,77]"
      ],
      "metadata": {
        "id": "TLyRfXn5lvaq"
      },
      "execution_count": null,
      "outputs": []
    },
    {
      "cell_type": "code",
      "source": [
        "list(range(0,len(l2),2))"
      ],
      "metadata": {
        "colab": {
          "base_uri": "https://localhost:8080/"
        },
        "id": "rK9oUiCtl16E",
        "outputId": "3ee165e4-c908-458e-cc8c-237455ebcd88"
      },
      "execution_count": null,
      "outputs": [
        {
          "output_type": "execute_result",
          "data": {
            "text/plain": [
              "[0, 2, 4, 6]"
            ]
          },
          "metadata": {},
          "execution_count": 69
        }
      ]
    },
    {
      "cell_type": "code",
      "source": [
        "for i in range(0,len(l2),2):\n",
        "    print(l2[i])"
      ],
      "metadata": {
        "colab": {
          "base_uri": "https://localhost:8080/"
        },
        "id": "7P0uPoyKmGRA",
        "outputId": "d8c606d9-044c-4e53-c351-445aa455bbad"
      },
      "execution_count": null,
      "outputs": [
        {
          "output_type": "stream",
          "name": "stdout",
          "text": [
            "1\n",
            "55\n",
            "775\n",
            "33\n"
          ]
        }
      ]
    },
    {
      "cell_type": "code",
      "source": [
        "l3 = [1,2,4,6,7,8,55,33]"
      ],
      "metadata": {
        "id": "SpySdEtRmaP-"
      },
      "execution_count": null,
      "outputs": []
    },
    {
      "cell_type": "code",
      "source": [
        "sum(l3)"
      ],
      "metadata": {
        "colab": {
          "base_uri": "https://localhost:8080/"
        },
        "id": "Bo9yuxY0moK6",
        "outputId": "05c9f720-0a76-4b65-d7b6-f92c11f08e83"
      },
      "execution_count": null,
      "outputs": [
        {
          "output_type": "execute_result",
          "data": {
            "text/plain": [
              "116"
            ]
          },
          "metadata": {},
          "execution_count": 117
        }
      ]
    },
    {
      "cell_type": "code",
      "source": [
        "result = 0\n",
        "for i in l3:\n",
        "    result = result + i\n",
        "result"
      ],
      "metadata": {
        "colab": {
          "base_uri": "https://localhost:8080/"
        },
        "id": "sM0UlyQAms2h",
        "outputId": "78605b36-c3e9-4a8e-d6c8-71a499dfdbf2"
      },
      "execution_count": null,
      "outputs": [
        {
          "output_type": "execute_result",
          "data": {
            "text/plain": [
              "116"
            ]
          },
          "metadata": {},
          "execution_count": 86
        }
      ]
    },
    {
      "cell_type": "code",
      "source": [
        "t = (2,6,6,7,5,8,)"
      ],
      "metadata": {
        "id": "lPcOmucfpEnA"
      },
      "execution_count": null,
      "outputs": []
    },
    {
      "cell_type": "code",
      "source": [
        "#rebmebir list[]\n",
        "       # tuple()\n",
        "        #set{1,2}\n",
        "       # dict{}"
      ],
      "metadata": {
        "id": "t5Hu-VsDsfpr"
      },
      "execution_count": null,
      "outputs": []
    },
    {
      "cell_type": "code",
      "source": [
        "t"
      ],
      "metadata": {
        "colab": {
          "base_uri": "https://localhost:8080/"
        },
        "id": "bXxXVT5drQAO",
        "outputId": "61a1e8e2-9631-4e87-b367-00d15e0e43ec"
      },
      "execution_count": null,
      "outputs": [
        {
          "output_type": "execute_result",
          "data": {
            "text/plain": [
              "(2, 6, 6, 7, 5, 8)"
            ]
          },
          "metadata": {},
          "execution_count": 4
        }
      ]
    },
    {
      "cell_type": "code",
      "source": [
        "for i in t:\n",
        "    print(i)"
      ],
      "metadata": {
        "id": "FG_5c6NZpLcI",
        "colab": {
          "base_uri": "https://localhost:8080/"
        },
        "outputId": "86e8dbff-2f61-42e2-948c-c9af6f31c30f"
      },
      "execution_count": null,
      "outputs": [
        {
          "output_type": "stream",
          "name": "stdout",
          "text": [
            "2\n",
            "6\n",
            "6\n",
            "7\n",
            "5\n",
            "8\n"
          ]
        }
      ]
    },
    {
      "cell_type": "code",
      "source": [
        "t"
      ],
      "metadata": {
        "colab": {
          "base_uri": "https://localhost:8080/"
        },
        "id": "oVIfJCy7Am-w",
        "outputId": "62a4008d-b504-4b5d-fa3e-018f2977d5f9"
      },
      "execution_count": null,
      "outputs": [
        {
          "output_type": "execute_result",
          "data": {
            "text/plain": [
              "(2, 6, 6, 7, 5, 8)"
            ]
          },
          "metadata": {},
          "execution_count": 5
        }
      ]
    },
    {
      "cell_type": "code",
      "source": [
        "\n",
        "result = 0\n",
        "for i in t:\n",
        "    result = result+i\n",
        "result"
      ],
      "metadata": {
        "colab": {
          "base_uri": "https://localhost:8080/"
        },
        "id": "u8FtETQgpRbU",
        "outputId": "4e4c56b4-7569-4c1e-c1ca-343c6da49bc7"
      },
      "execution_count": null,
      "outputs": [
        {
          "output_type": "execute_result",
          "data": {
            "text/plain": [
              "34"
            ]
          },
          "metadata": {},
          "execution_count": 109
        }
      ]
    },
    {
      "cell_type": "code",
      "source": [
        "s={1,3,4,5,\"sajan\",'kumar',87.6,65}"
      ],
      "metadata": {
        "id": "EBmFcNS7pfyU"
      },
      "execution_count": null,
      "outputs": []
    },
    {
      "cell_type": "code",
      "source": [
        "for i in s:\n",
        "    print(i)"
      ],
      "metadata": {
        "colab": {
          "base_uri": "https://localhost:8080/"
        },
        "id": "SMs2s6vPtJfQ",
        "outputId": "83590250-1c44-4b87-b58f-78f3c9daf0d4"
      },
      "execution_count": null,
      "outputs": [
        {
          "output_type": "stream",
          "name": "stdout",
          "text": [
            "65\n",
            "1\n",
            "3\n",
            "4\n",
            "5\n",
            "sajan\n",
            "87.6\n",
            "kumar\n"
          ]
        }
      ]
    },
    {
      "cell_type": "code",
      "source": [
        "d = {'kumar':\"sajan\",\"hi\":'hello',\"timetable\":(\"morning\", 'evening', \"night\" )}"
      ],
      "metadata": {
        "id": "BPndXRk6tWlX"
      },
      "execution_count": null,
      "outputs": []
    },
    {
      "cell_type": "code",
      "source": [
        "d"
      ],
      "metadata": {
        "colab": {
          "base_uri": "https://localhost:8080/"
        },
        "id": "Zjuo1Rlfu62B",
        "outputId": "5ac34bd2-398a-4628-81e9-5db02d014683"
      },
      "execution_count": null,
      "outputs": [
        {
          "output_type": "execute_result",
          "data": {
            "text/plain": [
              "{'kumar': 'sajan', 'hi': 'hello', 'timetable': ('morning', 'evening', 'night')}"
            ]
          },
          "metadata": {},
          "execution_count": 135
        }
      ]
    },
    {
      "cell_type": "code",
      "source": [
        "d[\"kumar\"]"
      ],
      "metadata": {
        "colab": {
          "base_uri": "https://localhost:8080/",
          "height": 35
        },
        "id": "Oc4dLKtbu9GM",
        "outputId": "7d45fb29-2527-4b64-994f-0f4f61415bed"
      },
      "execution_count": null,
      "outputs": [
        {
          "output_type": "execute_result",
          "data": {
            "text/plain": [
              "'sajan'"
            ],
            "application/vnd.google.colaboratory.intrinsic+json": {
              "type": "string"
            }
          },
          "metadata": {},
          "execution_count": 136
        }
      ]
    },
    {
      "cell_type": "code",
      "source": [
        "d.keys()"
      ],
      "metadata": {
        "colab": {
          "base_uri": "https://localhost:8080/"
        },
        "id": "C6ry1TYQvCT9",
        "outputId": "04907444-05f7-43b8-ec71-3c76ae45f660"
      },
      "execution_count": null,
      "outputs": [
        {
          "output_type": "execute_result",
          "data": {
            "text/plain": [
              "dict_keys(['kumar', 'hi', 'timetable'])"
            ]
          },
          "metadata": {},
          "execution_count": 137
        }
      ]
    },
    {
      "cell_type": "code",
      "source": [
        "d.values()"
      ],
      "metadata": {
        "colab": {
          "base_uri": "https://localhost:8080/"
        },
        "id": "-YZocXtsvIKs",
        "outputId": "5e942f1b-c209-42e7-e00a-d95e17cf6ffc"
      },
      "execution_count": null,
      "outputs": [
        {
          "output_type": "execute_result",
          "data": {
            "text/plain": [
              "dict_values(['sajan', 'hello', ('morning', 'evening', 'night')])"
            ]
          },
          "metadata": {},
          "execution_count": 138
        }
      ]
    },
    {
      "cell_type": "code",
      "source": [
        "d.items()"
      ],
      "metadata": {
        "colab": {
          "base_uri": "https://localhost:8080/"
        },
        "id": "qTtsVBh9vOUU",
        "outputId": "4696dca0-0109-406a-b946-d92b333ef702"
      },
      "execution_count": null,
      "outputs": [
        {
          "output_type": "execute_result",
          "data": {
            "text/plain": [
              "dict_items([('kumar', 'sajan'), ('hi', 'hello'), ('timetable', ('morning', 'evening', 'night'))])"
            ]
          },
          "metadata": {},
          "execution_count": 140
        }
      ]
    },
    {
      "cell_type": "code",
      "source": [
        "for i in d.keys():\n",
        "    print(i)"
      ],
      "metadata": {
        "colab": {
          "base_uri": "https://localhost:8080/"
        },
        "id": "UXIaQH5ZuUl4",
        "outputId": "0fb8ddc4-eda8-4103-8d30-d10b67308d3c"
      },
      "execution_count": null,
      "outputs": [
        {
          "output_type": "stream",
          "name": "stdout",
          "text": [
            "kumar\n",
            "hi\n",
            "timetable\n"
          ]
        }
      ]
    },
    {
      "cell_type": "code",
      "source": [],
      "metadata": {
        "id": "ZXSuJg6dzCPX"
      },
      "execution_count": null,
      "outputs": []
    },
    {
      "cell_type": "code",
      "source": [
        "d"
      ],
      "metadata": {
        "colab": {
          "base_uri": "https://localhost:8080/"
        },
        "id": "QTHR1ARqxI08",
        "outputId": "0ac7ffe7-95ff-40d2-bbe3-4f122b11f386"
      },
      "execution_count": null,
      "outputs": [
        {
          "output_type": "execute_result",
          "data": {
            "text/plain": [
              "{'kumar': 'sajan', 'hi': 'hello', 'timetable': ('morning', 'evening', 'night')}"
            ]
          },
          "metadata": {},
          "execution_count": 158
        }
      ]
    },
    {
      "cell_type": "code",
      "source": [
        "for i in d.values():\n",
        "    print(i)"
      ],
      "metadata": {
        "colab": {
          "base_uri": "https://localhost:8080/"
        },
        "id": "vYT7tPQgw2bw",
        "outputId": "79521ae7-8aed-4754-92e5-ead927c87e38"
      },
      "execution_count": null,
      "outputs": [
        {
          "output_type": "stream",
          "name": "stdout",
          "text": [
            "sajan\n",
            "hello\n",
            "('morning', 'evening', 'night')\n"
          ]
        }
      ]
    },
    {
      "cell_type": "code",
      "source": [
        "for i in d.items():\n",
        "    print(i)"
      ],
      "metadata": {
        "id": "fR8L_wtHviSz",
        "colab": {
          "base_uri": "https://localhost:8080/"
        },
        "outputId": "111e4949-b45a-48c0-92b1-b109b9c296ce"
      },
      "execution_count": null,
      "outputs": [
        {
          "output_type": "stream",
          "name": "stdout",
          "text": [
            "('kumar', 'sajan')\n",
            "('hi', 'hello')\n",
            "('timetable', ('morning', 'evening', 'night'))\n"
          ]
        }
      ]
    },
    {
      "cell_type": "code",
      "source": [
        "s1 = \"pwskills\""
      ],
      "metadata": {
        "id": "hcOPRhEjzD5V"
      },
      "execution_count": null,
      "outputs": []
    },
    {
      "cell_type": "code",
      "source": [
        "for i in s1:\n",
        "    print(i)"
      ],
      "metadata": {
        "id": "pgCMxQfVzIvQ",
        "colab": {
          "base_uri": "https://localhost:8080/"
        },
        "outputId": "0fcfd692-10c8-429c-c30b-9f08ce0484a1"
      },
      "execution_count": null,
      "outputs": [
        {
          "output_type": "stream",
          "name": "stdout",
          "text": [
            "p\n",
            "w\n",
            "s\n",
            "k\n",
            "i\n",
            "l\n",
            "l\n",
            "s\n"
          ]
        }
      ]
    },
    {
      "cell_type": "code",
      "source": [
        "type(s1)"
      ],
      "metadata": {
        "id": "QAuULKMBzh1o",
        "outputId": "f6485c10-80e6-45e7-ac8b-bd05a80e3b8b",
        "colab": {
          "base_uri": "https://localhost:8080/"
        }
      },
      "execution_count": null,
      "outputs": [
        {
          "output_type": "execute_result",
          "data": {
            "text/plain": [
              "str"
            ]
          },
          "metadata": {},
          "execution_count": 183
        }
      ]
    }
  ],
  "metadata": {
    "colab": {
      "provenance": [],
      "authorship_tag": "ABX9TyNDmagn0lNn66LL4TjrNZX7",
      "include_colab_link": true
    },
    "kernelspec": {
      "display_name": "Python 3",
      "name": "python3"
    },
    "language_info": {
      "name": "python"
    }
  },
  "nbformat": 4,
  "nbformat_minor": 0
}